{
  "nbformat": 4,
  "nbformat_minor": 0,
  "metadata": {
    "colab": {
      "provenance": [],
      "toc_visible": true,
      "authorship_tag": "ABX9TyOu11DW2UzrAbPqYwhYHCAK",
      "include_colab_link": true
    },
    "kernelspec": {
      "name": "python3",
      "display_name": "Python 3"
    },
    "language_info": {
      "name": "python"
    }
  },
  "cells": [
    {
      "cell_type": "markdown",
      "metadata": {
        "id": "view-in-github",
        "colab_type": "text"
      },
      "source": [
        "<a href=\"https://colab.research.google.com/github/Rotor-380/Stepik/blob/master/Untitled18.ipynb\" target=\"_parent\"><img src=\"https://colab.research.google.com/assets/colab-badge.svg\" alt=\"Open In Colab\"/></a>"
      ]
    },
    {
      "cell_type": "code",
      "execution_count": null,
      "metadata": {
        "id": "bLuFT3J1Qq0h"
      },
      "outputs": [],
      "source": [
        "!pip install pytorch-tabnet"
      ]
    },
    {
      "cell_type": "code",
      "source": [
        "!pip install phik"
      ],
      "metadata": {
        "id": "HP6fapElRA1V"
      },
      "execution_count": null,
      "outputs": []
    },
    {
      "cell_type": "code",
      "source": [
        "import pandas as pd\n",
        "import numpy as np\n",
        "from sklearn.metrics import mean_absolute_error\n",
        "from sklearn.model_selection import train_test_split, cross_val_score, GridSearchCV\n",
        "import xgboost as xgb\n",
        "from sklearn.metrics import mean_absolute_percentage_error\n",
        "from sklearn.model_selection import GridSearchCV\n",
        "from sklearn.metrics import make_scorer\n",
        "import matplotlib.pyplot as plt\n",
        "import seaborn as sns\n",
        "from phik.report import plot_correlation_matrix\n",
        "from sklearn.metrics import mean_absolute_percentage_error\n",
        "# from catboost import CatBoostClassifier, CatBoostRegressor, Pool\n",
        "from sklearn.model_selection import train_test_split\n",
        "from sklearn.metrics import log_loss"
      ],
      "metadata": {
        "id": "B5SkTgSqRA4P"
      },
      "execution_count": null,
      "outputs": []
    },
    {
      "cell_type": "code",
      "source": [
        "df_raw = pd.read_csv(r'/content/train.csv')"
      ],
      "metadata": {
        "id": "mu02JWS-RBZH"
      },
      "execution_count": null,
      "outputs": []
    },
    {
      "cell_type": "code",
      "source": [
        "df_raw.info()"
      ],
      "metadata": {
        "colab": {
          "base_uri": "https://localhost:8080/"
        },
        "id": "IwxyAXc8Ro8s",
        "outputId": "55083476-3bdd-4385-ee1e-7ea78ea85565"
      },
      "execution_count": null,
      "outputs": [
        {
          "output_type": "stream",
          "name": "stdout",
          "text": [
            "<class 'pandas.core.frame.DataFrame'>\n",
            "RangeIndex: 13863 entries, 0 to 13862\n",
            "Data columns (total 26 columns):\n",
            " #   Column               Non-Null Count  Dtype  \n",
            "---  ------               --------------  -----  \n",
            " 0   ID                   13863 non-null  int64  \n",
            " 1   age                  13863 non-null  int64  \n",
            " 2   height(cm)           13863 non-null  int64  \n",
            " 3   weight(kg)           13863 non-null  int64  \n",
            " 4   waist(cm)            13863 non-null  float64\n",
            " 5   eyesight(left)       13863 non-null  float64\n",
            " 6   eyesight(right)      13863 non-null  float64\n",
            " 7   hearing(left)        13863 non-null  float64\n",
            " 8   hearing(right)       13863 non-null  float64\n",
            " 9   systolic             13863 non-null  float64\n",
            " 10  relaxation           13863 non-null  float64\n",
            " 11  fasting blood sugar  13863 non-null  float64\n",
            " 12  Cholesterol          13863 non-null  float64\n",
            " 13  triglyceride         13863 non-null  float64\n",
            " 14  HDL                  13863 non-null  float64\n",
            " 15  LDL                  13863 non-null  float64\n",
            " 16  hemoglobin           13863 non-null  float64\n",
            " 17  Urine protein        13863 non-null  float64\n",
            " 18  serum creatinine     13863 non-null  float64\n",
            " 19  AST                  13863 non-null  float64\n",
            " 20  ALT                  13863 non-null  float64\n",
            " 21  Gtp                  13863 non-null  float64\n",
            " 22  oral                 13863 non-null  object \n",
            " 23  dental caries        13863 non-null  int64  \n",
            " 24  tartar               13863 non-null  object \n",
            " 25  smoking              13863 non-null  int64  \n",
            "dtypes: float64(18), int64(6), object(2)\n",
            "memory usage: 2.8+ MB\n"
          ]
        }
      ]
    },
    {
      "cell_type": "code",
      "source": [
        "# строим зависимость по Фику\n",
        "phik_overview = df_raw.phik_matrix()\n",
        "phik_overview['smoking'].sort_values(ascending=False)"
      ],
      "metadata": {
        "colab": {
          "base_uri": "https://localhost:8080/"
        },
        "id": "dnflMXVSRo_o",
        "outputId": "e866513f-caf4-4f96-995a-64cc3eb17387"
      },
      "execution_count": null,
      "outputs": [
        {
          "output_type": "stream",
          "name": "stdout",
          "text": [
            "interval columns not set, guessing: ['ID', 'age', 'height(cm)', 'weight(kg)', 'waist(cm)', 'eyesight(left)', 'eyesight(right)', 'hearing(left)', 'hearing(right)', 'systolic', 'relaxation', 'fasting blood sugar', 'Cholesterol', 'triglyceride', 'HDL', 'LDL', 'hemoglobin', 'Urine protein', 'serum creatinine', 'AST', 'ALT', 'Gtp', 'dental caries', 'smoking']\n"
          ]
        },
        {
          "output_type": "stream",
          "name": "stderr",
          "text": [
            "/usr/local/lib/python3.10/dist-packages/phik/data_quality.py:82: UserWarning: Not enough unique value for variable oral for analysis 1. Dropping this column\n",
            "  warnings.warn(\n"
          ]
        },
        {
          "output_type": "execute_result",
          "data": {
            "text/plain": [
              "smoking                1.000000\n",
              "triglyceride           0.190617\n",
              "age                    0.183296\n",
              "Gtp                    0.142844\n",
              "hemoglobin             0.112074\n",
              "tartar                 0.104470\n",
              "dental caries          0.089124\n",
              "waist(cm)              0.062522\n",
              "serum creatinine       0.055594\n",
              "HDL                    0.050773\n",
              "weight(kg)             0.042934\n",
              "fasting blood sugar    0.041979\n",
              "hearing(left)          0.035270\n",
              "height(cm)             0.035266\n",
              "Urine protein          0.030645\n",
              "hearing(right)         0.024719\n",
              "relaxation             0.023451\n",
              "LDL                    0.022210\n",
              "systolic               0.016464\n",
              "Cholesterol            0.015907\n",
              "ALT                    0.014651\n",
              "AST                    0.001957\n",
              "eyesight(right)        0.000000\n",
              "eyesight(left)         0.000000\n",
              "ID                     0.000000\n",
              "Name: smoking, dtype: float64"
            ]
          },
          "metadata": {},
          "execution_count": 7
        }
      ]
    },
    {
      "cell_type": "code",
      "source": [
        "df = df_raw.drop(['oral', 'ID', 'hearing(left)', 'hearing(right)'], axis=1).copy() # , 'eyesight(left)', 'eyesight(right)', 'AST', 'ALT', 'hearing(right)', 'relaxation'\n",
        "df['tartar'] = df['tartar'].apply(lambda x: 1 if x == 'Y' else 0)"
      ],
      "metadata": {
        "id": "JMIYl2lkRpBv"
      },
      "execution_count": null,
      "outputs": []
    },
    {
      "cell_type": "code",
      "source": [
        "# Разделение данных по классам целевой переменной 'smoking'\n",
        "non_smokers = df[df['smoking'] == 0]\n",
        "smokers = df[df['smoking'] == 1]\n",
        "\n",
        "filtered_df = non_smokers.copy()"
      ],
      "metadata": {
        "id": "4NySRI5mR4t0"
      },
      "execution_count": null,
      "outputs": []
    },
    {
      "cell_type": "code",
      "source": [
        "for col in df.iloc[:, 1:].columns.to_list():\n",
        "    if df[col].nunique() > 20:\n",
        "        print(col)\n",
        "        # Calculate IQR for BuildingArea\n",
        "        Q1 = df[col].quantile(0.25)\n",
        "        Q3 = df[col].quantile(0.75)\n",
        "        IQR = Q3 - Q1\n",
        "\n",
        "        # Calculate the lower and upper bounds for outliers\n",
        "        lower_bound = Q1 - 1.5 * IQR\n",
        "        upper_bound = Q3 + 1.5 * IQR\n",
        "\n",
        "        # Count outliers\n",
        "        outliers = df[(df[col] < lower_bound) | (df[col] > upper_bound)]\n",
        "        num_outliers = outliers.shape[0]\n",
        "\n",
        "#         print(lower_bound, upper_bound, num_outliers)\n",
        "#         print(df[col].nunique())\n",
        "#         print()\n",
        "        filtered_df = filtered_df[(filtered_df[col] >= lower_bound) & (filtered_df[col] <= upper_bound)]\n",
        "\n",
        "merged_data = pd.concat([filtered_df, smokers], axis=0)\n",
        "merged_data.shape"
      ],
      "metadata": {
        "colab": {
          "base_uri": "https://localhost:8080/"
        },
        "id": "IoyyIzi7R4wm",
        "outputId": "c7d5e4ad-9e53-44fb-85fb-30038064a27b"
      },
      "execution_count": null,
      "outputs": [
        {
          "output_type": "stream",
          "name": "stdout",
          "text": [
            "waist(cm)\n",
            "systolic\n",
            "relaxation\n",
            "fasting blood sugar\n",
            "Cholesterol\n",
            "triglyceride\n",
            "HDL\n",
            "LDL\n",
            "hemoglobin\n",
            "serum creatinine\n",
            "AST\n",
            "ALT\n",
            "Gtp\n"
          ]
        },
        {
          "output_type": "execute_result",
          "data": {
            "text/plain": [
              "(11018, 22)"
            ]
          },
          "metadata": {},
          "execution_count": 33
        }
      ]
    },
    {
      "cell_type": "code",
      "source": [
        "merged_data['log_tr'] = merged_data['triglyceride'].apply(np.log)\n",
        "merged_data['log_gtp'] = merged_data['Gtp'].apply(np.log)\n",
        "merged_data['BMI'] = merged_data['weight(kg)'] / ((merged_data['height(cm)'] / 100) ** 2)\n",
        "merged_data['middle_aged'] = (merged_data['age'] >= 40) & (merged_data['age'] <= 64)\n",
        "merged_data['senior'] = merged_data['age'] >= 65\n",
        "merged_data['middle_aged'] = merged_data['middle_aged'].apply(lambda x: 1 if x == True else 0)\n",
        "merged_data['senior'] = merged_data['senior'].apply(lambda x: 1 if x == True else 0)"
      ],
      "metadata": {
        "id": "y_Mfog8oR4zD"
      },
      "execution_count": null,
      "outputs": []
    },
    {
      "cell_type": "code",
      "source": [
        "# строим зависимость по Фику\n",
        "phik_overview = merged_data.phik_matrix()\n",
        "phik_overview['smoking'].sort_values(ascending=False)"
      ],
      "metadata": {
        "colab": {
          "base_uri": "https://localhost:8080/"
        },
        "id": "g6e8llvKR41u",
        "outputId": "a2658d19-d1c6-4c63-bd7c-72d91123eb6a"
      },
      "execution_count": null,
      "outputs": [
        {
          "output_type": "stream",
          "name": "stdout",
          "text": [
            "interval columns not set, guessing: ['age', 'height(cm)', 'weight(kg)', 'waist(cm)', 'eyesight(left)', 'eyesight(right)', 'systolic', 'relaxation', 'fasting blood sugar', 'Cholesterol', 'triglyceride', 'HDL', 'LDL', 'hemoglobin', 'Urine protein', 'serum creatinine', 'AST', 'ALT', 'Gtp', 'dental caries', 'tartar', 'smoking', 'log_tr', 'log_gtp', 'BMI', 'middle_aged', 'senior']\n"
          ]
        },
        {
          "output_type": "execute_result",
          "data": {
            "text/plain": [
              "smoking                1.000000\n",
              "log_gtp                0.504008\n",
              "triglyceride           0.355866\n",
              "log_tr                 0.355388\n",
              "Gtp                    0.335847\n",
              "middle_aged            0.214280\n",
              "HDL                    0.212492\n",
              "fasting blood sugar    0.207778\n",
              "age                    0.204367\n",
              "hemoglobin             0.151239\n",
              "BMI                    0.146355\n",
              "ALT                    0.145911\n",
              "waist(cm)              0.144153\n",
              "Cholesterol            0.117237\n",
              "relaxation             0.114294\n",
              "tartar                 0.113651\n",
              "senior                 0.106896\n",
              "dental caries          0.102916\n",
              "systolic               0.101806\n",
              "weight(kg)             0.100557\n",
              "Urine protein          0.078546\n",
              "LDL                    0.071322\n",
              "AST                    0.054462\n",
              "serum creatinine       0.037037\n",
              "height(cm)             0.036615\n",
              "eyesight(left)         0.009440\n",
              "eyesight(right)        0.008223\n",
              "Name: smoking, dtype: float64"
            ]
          },
          "metadata": {},
          "execution_count": 35
        }
      ]
    },
    {
      "cell_type": "code",
      "source": [
        "from sklearn.model_selection import train_test_split\n",
        "\n",
        "X = merged_data.drop(['smoking'], axis=1) #\n",
        "y = merged_data['smoking']\n",
        "\n",
        "# polynomial_converter = PolynomialFeatures(degree=2, include_bias=False)\n",
        "# pX = polynomial_converter.fit_transform(X)\n",
        "\n",
        "# Разделение данных на обучающую и тестовую выборки\n",
        "X_train, X_test, y_train, y_test = train_test_split(X, y, test_size=0.2, random_state=42, stratify=y)"
      ],
      "metadata": {
        "id": "Jwbd83sGRpEd"
      },
      "execution_count": null,
      "outputs": []
    },
    {
      "cell_type": "code",
      "source": [
        "from sklearn.preprocessing import MinMaxScaler\n",
        "\n",
        "# Масштабирование признаков\n",
        "scaler = MinMaxScaler()\n",
        "X_train = scaler.fit_transform(X_train)\n",
        "X_test = scaler.transform(X_test)\n",
        "\n",
        "X_train.shape, X_test.shape"
      ],
      "metadata": {
        "colab": {
          "base_uri": "https://localhost:8080/",
          "height": 246
        },
        "id": "e6UlsuRzTQAF",
        "outputId": "46a205ad-ba6f-4a96-b6fa-590d323753cb"
      },
      "execution_count": null,
      "outputs": [
        {
          "output_type": "error",
          "ename": "NameError",
          "evalue": "ignored",
          "traceback": [
            "\u001b[0;31m---------------------------------------------------------------------------\u001b[0m",
            "\u001b[0;31mNameError\u001b[0m                                 Traceback (most recent call last)",
            "\u001b[0;32m<ipython-input-1-815056666021>\u001b[0m in \u001b[0;36m<cell line: 5>\u001b[0;34m()\u001b[0m\n\u001b[1;32m      3\u001b[0m \u001b[0;31m# Масштабирование признаков\u001b[0m\u001b[0;34m\u001b[0m\u001b[0;34m\u001b[0m\u001b[0m\n\u001b[1;32m      4\u001b[0m \u001b[0mscaler\u001b[0m \u001b[0;34m=\u001b[0m \u001b[0mMinMaxScaler\u001b[0m\u001b[0;34m(\u001b[0m\u001b[0;34m)\u001b[0m\u001b[0;34m\u001b[0m\u001b[0;34m\u001b[0m\u001b[0m\n\u001b[0;32m----> 5\u001b[0;31m \u001b[0mX_train\u001b[0m \u001b[0;34m=\u001b[0m \u001b[0mscaler\u001b[0m\u001b[0;34m.\u001b[0m\u001b[0mfit_transform\u001b[0m\u001b[0;34m(\u001b[0m\u001b[0mX_train\u001b[0m\u001b[0;34m)\u001b[0m\u001b[0;34m\u001b[0m\u001b[0;34m\u001b[0m\u001b[0m\n\u001b[0m\u001b[1;32m      6\u001b[0m \u001b[0mX_test\u001b[0m \u001b[0;34m=\u001b[0m \u001b[0mscaler\u001b[0m\u001b[0;34m.\u001b[0m\u001b[0mtransform\u001b[0m\u001b[0;34m(\u001b[0m\u001b[0mX_test\u001b[0m\u001b[0;34m)\u001b[0m\u001b[0;34m\u001b[0m\u001b[0;34m\u001b[0m\u001b[0m\n\u001b[1;32m      7\u001b[0m \u001b[0;34m\u001b[0m\u001b[0m\n",
            "\u001b[0;31mNameError\u001b[0m: name 'X_train' is not defined"
          ]
        }
      ]
    },
    {
      "cell_type": "code",
      "source": [
        "from pytorch_tabnet.tab_model import TabNetClassifier\n",
        "import torch\n",
        "\n",
        "\n",
        "# Убедитесь, что ваши данные в формате numpy\n",
        "# Если у вас есть pandas DataFrame, просто используйте .values\n",
        "X_train_np = X_train#.values\n",
        "X_test_np = X_test#.values\n",
        "\n",
        "# Конвертировать метки в int (если они еще не int)\n",
        "y_train_np = y_train.astype(int).values\n",
        "y_test_np = y_test.astype(int).values\n",
        "\n",
        "# Параметры для TabNet\n",
        "tabnet_params = dict(\n",
        "    n_d=8,\n",
        "    n_a=8,\n",
        "    n_steps=3,\n",
        "    gamma=1.5,\n",
        "    lambda_sparse=1e-4,\n",
        "    optimizer_fn=torch.optim.Adam,\n",
        "    optimizer_params=dict(lr=2e-2),\n",
        "    mask_type='entmax',\n",
        "    scheduler_params=dict(\n",
        "        mode=\"min\", patience=7, min_lr=1e-5, factor=0.9\n",
        "    ),\n",
        "    scheduler_fn=torch.optim.lr_scheduler.ReduceLROnPlateau,\n",
        "    seed=42,\n",
        "    verbose=10\n",
        ")\n",
        "\n",
        "# Создание и обучение модели\n",
        "clf = TabNetClassifier(**tabnet_params)\n",
        "clf.fit(\n",
        "    X_train_np, y_train_np,\n",
        "    eval_set=[(X_train_np, y_train_np), (X_test_np, y_test_np)],\n",
        "    eval_name=['train', 'valid'],\n",
        "    eval_metric=['balanced_accuracy'],\n",
        "    max_epochs=1000,\n",
        "    patience=80,\n",
        "    batch_size=128,\n",
        "    virtual_batch_size=64,\n",
        "    num_workers=0,\n",
        "    drop_last=False\n",
        ")\n",
        "\n",
        "# Предсказания\n",
        "preds = clf.predict(X_test_np)\n"
      ],
      "metadata": {
        "colab": {
          "base_uri": "https://localhost:8080/"
        },
        "id": "VQ3nleMNRpG8",
        "outputId": "dfebd5f9-4bf6-45c0-f3a0-68899a086a39"
      },
      "execution_count": null,
      "outputs": [
        {
          "output_type": "stream",
          "name": "stderr",
          "text": [
            "/usr/local/lib/python3.10/dist-packages/pytorch_tabnet/abstract_model.py:82: UserWarning: Device used : cpu\n",
            "  warnings.warn(f\"Device used : {self.device}\")\n"
          ]
        },
        {
          "output_type": "stream",
          "name": "stdout",
          "text": [
            "epoch 0  | loss: 0.56561 | train_balanced_accuracy: 0.5     | valid_balanced_accuracy: 0.5     |  0:00:02s\n",
            "epoch 10 | loss: 0.46782 | train_balanced_accuracy: 0.60174 | valid_balanced_accuracy: 0.59103 |  0:00:29s\n",
            "epoch 20 | loss: 0.4505  | train_balanced_accuracy: 0.6436  | valid_balanced_accuracy: 0.63812 |  0:00:55s\n",
            "epoch 30 | loss: 0.44202 | train_balanced_accuracy: 0.62164 | valid_balanced_accuracy: 0.61482 |  0:01:22s\n",
            "epoch 40 | loss: 0.42835 | train_balanced_accuracy: 0.66187 | valid_balanced_accuracy: 0.65117 |  0:01:48s\n",
            "epoch 50 | loss: 0.42981 | train_balanced_accuracy: 0.66388 | valid_balanced_accuracy: 0.64847 |  0:02:14s\n",
            "epoch 60 | loss: 0.41824 | train_balanced_accuracy: 0.6603  | valid_balanced_accuracy: 0.62913 |  0:02:40s\n",
            "epoch 70 | loss: 0.4126  | train_balanced_accuracy: 0.67556 | valid_balanced_accuracy: 0.64433 |  0:03:13s\n",
            "epoch 80 | loss: 0.40405 | train_balanced_accuracy: 0.70012 | valid_balanced_accuracy: 0.65555 |  0:03:49s\n",
            "epoch 90 | loss: 0.39192 | train_balanced_accuracy: 0.69928 | valid_balanced_accuracy: 0.64098 |  0:04:24s\n",
            "epoch 100| loss: 0.38456 | train_balanced_accuracy: 0.70198 | valid_balanced_accuracy: 0.64395 |  0:04:50s\n",
            "epoch 110| loss: 0.37886 | train_balanced_accuracy: 0.7011  | valid_balanced_accuracy: 0.6464  |  0:05:17s\n",
            "epoch 120| loss: 0.37297 | train_balanced_accuracy: 0.71804 | valid_balanced_accuracy: 0.64689 |  0:05:44s\n",
            "epoch 130| loss: 0.36616 | train_balanced_accuracy: 0.73359 | valid_balanced_accuracy: 0.64976 |  0:06:10s\n",
            "epoch 140| loss: 0.36253 | train_balanced_accuracy: 0.72511 | valid_balanced_accuracy: 0.65548 |  0:06:36s\n",
            "epoch 150| loss: 0.36533 | train_balanced_accuracy: 0.72439 | valid_balanced_accuracy: 0.64659 |  0:07:02s\n",
            "epoch 160| loss: 0.35317 | train_balanced_accuracy: 0.7454  | valid_balanced_accuracy: 0.65173 |  0:07:29s\n",
            "epoch 170| loss: 0.35753 | train_balanced_accuracy: 0.74038 | valid_balanced_accuracy: 0.64712 |  0:07:55s\n",
            "epoch 180| loss: 0.35621 | train_balanced_accuracy: 0.74765 | valid_balanced_accuracy: 0.65004 |  0:08:21s\n",
            "\n",
            "Early stopping occurred at epoch 187 with best_epoch = 107 and best_valid_balanced_accuracy = 0.66021\n"
          ]
        },
        {
          "output_type": "stream",
          "name": "stderr",
          "text": [
            "/usr/local/lib/python3.10/dist-packages/pytorch_tabnet/callbacks.py:172: UserWarning: Best weights from best epoch are automatically used!\n",
            "  warnings.warn(wrn_msg)\n"
          ]
        }
      ]
    },
    {
      "cell_type": "code",
      "source": [
        "from sklearn.metrics import f1_score\n",
        "from sklearn.metrics import confusion_matrix, ConfusionMatrixDisplay\n",
        "# 1. Скалирование исходного датасета\n",
        "X_scaled = scaler.transform(X)\n",
        "\n",
        "\n",
        "thresholds = np.linspace(0, 1, 100)\n",
        "f1_scores = [f1_score(y, (clf.predict_proba(X_scaled)[:, 1] > t).astype(int)) for t in thresholds]\n",
        "optimal_threshold = thresholds[np.argmax(f1_scores)]\n",
        "\n",
        "# 2. Получение прогнозов\n",
        "preds_full_dataset = (clf.predict_proba(X_scaled)[:, 1] > optimal_threshold).astype(int)\n",
        "\n",
        "# 3. Создание матрицы ошибок\n",
        "cm_full_dataset = confusion_matrix(y, preds_full_dataset)\n",
        "ConfusionMatrixDisplay(cm_full_dataset).plot()\n"
      ],
      "metadata": {
        "colab": {
          "base_uri": "https://localhost:8080/",
          "height": 466
        },
        "id": "hC6Mye26VnFg",
        "outputId": "66db94d7-bbdd-4251-c6a0-bb34f800bcdd"
      },
      "execution_count": null,
      "outputs": [
        {
          "output_type": "execute_result",
          "data": {
            "text/plain": [
              "<sklearn.metrics._plot.confusion_matrix.ConfusionMatrixDisplay at 0x7d143efed870>"
            ]
          },
          "metadata": {},
          "execution_count": 50
        },
        {
          "output_type": "display_data",
          "data": {
            "text/plain": [
              "<Figure size 640x480 with 2 Axes>"
            ],
            "image/png": "[encoded data removed]"
          },
          "metadata": {}
        }
      ]
    },
    {
      "cell_type": "code",
      "source": [
        "from sklearn.metrics import f1_score\n",
        "from sklearn.metrics import confusion_matrix, ConfusionMatrixDisplay\n",
        "\n",
        "# 1. Получение вероятностей\n",
        "probs = clf.predict_proba(X_scaled)[:, 1]\n",
        "\n",
        "# 2. Определение оптимального порога\n",
        "# thresholds = np.linspace(0, 1, 100)\n",
        "# f1_scores = [f1_score(y, (probs > t).astype(int)) for t in thresholds]\n",
        "# optimal_threshold = thresholds[np.argmax(f1_scores)]\n",
        "\n",
        "# 3. Примените порог к вероятностям\n",
        "merged_data['pred_smoking'] = (probs > optimal_threshold).astype(int)\n",
        "\n",
        "# 4. Постройте матрицу ошибок\n",
        "cm = confusion_matrix(merged_data['smoking'], merged_data['pred_smoking'])\n",
        "ConfusionMatrixDisplay(cm).plot()\n",
        "\n",
        "optimal_threshold\n"
      ],
      "metadata": {
        "colab": {
          "base_uri": "https://localhost:8080/",
          "height": 466
        },
        "id": "NKz22uHxSQUa",
        "outputId": "4f8b531d-37db-4711-c861-da8098b7dae2"
      },
      "execution_count": null,
      "outputs": [
        {
          "output_type": "execute_result",
          "data": {
            "text/plain": [
              "0.27272727272727276"
            ]
          },
          "metadata": {},
          "execution_count": 46
        },
        {
          "output_type": "display_data",
          "data": {
            "text/plain": [
              "<Figure size 640x480 with 2 Axes>"
            ],
            "image/png": "[encoded data removed]"
          },
          "metadata": {}
        }
      ]
    },
    {
      "cell_type": "code",
      "source": [
        "df_test = pd.read_csv(r'/content/test.csv')"
      ],
      "metadata": {
        "id": "1trxBbG0TApo"
      },
      "execution_count": null,
      "outputs": []
    },
    {
      "cell_type": "code",
      "source": [
        "df_test = df_test.drop(['oral', 'ID', 'hearing(left)', 'hearing(right)'], axis=1).copy()"
      ],
      "metadata": {
        "id": "0GqlvyNGU5pp"
      },
      "execution_count": null,
      "outputs": []
    },
    {
      "cell_type": "code",
      "source": [
        "df_test['tartar'] = df_test['tartar'].apply(lambda x: 1 if x == 'Y' else 0)"
      ],
      "metadata": {
        "id": "WNAaW1YQVG1s"
      },
      "execution_count": null,
      "outputs": []
    },
    {
      "cell_type": "code",
      "source": [
        "df_test['log_tr'] = df_test['triglyceride'].apply(np.log)\n",
        "df_test['log_gtp'] = df_test['Gtp'].apply(np.log)\n",
        "df_test['BMI'] = df_test['weight(kg)'] / ((df_test['height(cm)'] / 100) ** 2)\n",
        "df_test['middle_aged'] = (df_test['age'] >= 40) & (df_test['age'] <= 64)\n",
        "df_test['senior'] = df_test['age'] >= 65\n",
        "df_test['middle_aged'] = df_test['middle_aged'].apply(lambda x: 1 if x == True else 0)\n",
        "df_test['senior'] = df_test['senior'].apply(lambda x: 1 if x == True else 0)"
      ],
      "metadata": {
        "id": "tadvwbSNVMLs"
      },
      "execution_count": null,
      "outputs": []
    },
    {
      "cell_type": "code",
      "source": [
        "# Предположим, что new_data - это ваш новый датасет без целевой переменной\n",
        "new_data_scaled = scaler.transform(df_test)"
      ],
      "metadata": {
        "id": "nM7woZtcVMOw"
      },
      "execution_count": null,
      "outputs": []
    },
    {
      "cell_type": "code",
      "source": [
        "new_preds = clf.predict(new_data_scaled)"
      ],
      "metadata": {
        "id": "iizMaUfjVMRb"
      },
      "execution_count": null,
      "outputs": []
    },
    {
      "cell_type": "code",
      "source": [
        "new_preds.sum()"
      ],
      "metadata": {
        "colab": {
          "base_uri": "https://localhost:8080/"
        },
        "id": "6Tym_qZoVdYO",
        "outputId": "54ab0e39-8049-4c6b-8223-d771149e6cff"
      },
      "execution_count": null,
      "outputs": [
        {
          "output_type": "execute_result",
          "data": {
            "text/plain": [
              "1214"
            ]
          },
          "metadata": {},
          "execution_count": 62
        }
      ]
    },
    {
      "cell_type": "code",
      "source": [
        "sample_submission_df = pd.read_csv(r'/content/sample_submission.csv')"
      ],
      "metadata": {
        "id": "fIMcdtpqVe4p"
      },
      "execution_count": null,
      "outputs": []
    },
    {
      "cell_type": "code",
      "source": [
        "sample_submission_df['smoking'] = new_preds"
      ],
      "metadata": {
        "id": "nUeuqyLzhWlL"
      },
      "execution_count": null,
      "outputs": []
    },
    {
      "cell_type": "code",
      "source": [
        "sample_submission_df"
      ],
      "metadata": {
        "colab": {
          "base_uri": "https://localhost:8080/",
          "height": 424
        },
        "id": "SrKDe7c-hWny",
        "outputId": "7f897676-7223-4b7f-d6a0-943fe0e7a162"
      },
      "execution_count": null,
      "outputs": [
        {
          "output_type": "execute_result",
          "data": {
            "text/plain": [
              "         ID  smoking\n",
              "0     19200        0\n",
              "1      7784        0\n",
              "2     11682        0\n",
              "3      9949        0\n",
              "4      9378        1\n",
              "...     ...      ...\n",
              "5937  17154        0\n",
              "5938  19366        0\n",
              "5939   1170        0\n",
              "5940   9358        0\n",
              "5941  14302        1\n",
              "\n",
              "[5942 rows x 2 columns]"
            ],
            "text/html": [
              "\n",
              "  <div id=\"df-abf9392e-ac55-45fb-9a66-f7efe7841bbe\" class=\"colab-df-container\">\n",
              "    <div>\n",
              "<style scoped>\n",
              "    .dataframe tbody tr th:only-of-type {\n",
              "        vertical-align: middle;\n",
              "    }\n",
              "\n",
              "    .dataframe tbody tr th {\n",
              "        vertical-align: top;\n",
              "    }\n",
              "\n",
              "    .dataframe thead th {\n",
              "        text-align: right;\n",
              "    }\n",
              "</style>\n",
              "<table border=\"1\" class=\"dataframe\">\n",
              "  <thead>\n",
              "    <tr style=\"text-align: right;\">\n",
              "      <th></th>\n",
              "      <th>ID</th>\n",
              "      <th>smoking</th>\n",
              "    </tr>\n",
              "  </thead>\n",
              "  <tbody>\n",
              "    <tr>\n",
              "      <th>0</th>\n",
              "      <td>19200</td>\n",
              "      <td>0</td>\n",
              "    </tr>\n",
              "    <tr>\n",
              "      <th>1</th>\n",
              "      <td>7784</td>\n",
              "      <td>0</td>\n",
              "    </tr>\n",
              "    <tr>\n",
              "      <th>2</th>\n",
              "      <td>11682</td>\n",
              "      <td>0</td>\n",
              "    </tr>\n",
              "    <tr>\n",
              "      <th>3</th>\n",
              "      <td>9949</td>\n",
              "      <td>0</td>\n",
              "    </tr>\n",
              "    <tr>\n",
              "      <th>4</th>\n",
              "      <td>9378</td>\n",
              "      <td>1</td>\n",
              "    </tr>\n",
              "    <tr>\n",
              "      <th>...</th>\n",
              "      <td>...</td>\n",
              "      <td>...</td>\n",
              "    </tr>\n",
              "    <tr>\n",
              "      <th>5937</th>\n",
              "      <td>17154</td>\n",
              "      <td>0</td>\n",
              "    </tr>\n",
              "    <tr>\n",
              "      <th>5938</th>\n",
              "      <td>19366</td>\n",
              "      <td>0</td>\n",
              "    </tr>\n",
              "    <tr>\n",
              "      <th>5939</th>\n",
              "      <td>1170</td>\n",
              "      <td>0</td>\n",
              "    </tr>\n",
              "    <tr>\n",
              "      <th>5940</th>\n",
              "      <td>9358</td>\n",
              "      <td>0</td>\n",
              "    </tr>\n",
              "    <tr>\n",
              "      <th>5941</th>\n",
              "      <td>14302</td>\n",
              "      <td>1</td>\n",
              "    </tr>\n",
              "  </tbody>\n",
              "</table>\n",
              "<p>5942 rows × 2 columns</p>\n",
              "</div>\n",
              "    <div class=\"colab-df-buttons\">\n",
              "\n",
              "  <div class=\"colab-df-container\">\n",
              "    <button class=\"colab-df-convert\" onclick=\"convertToInteractive('df-abf9392e-ac55-45fb-9a66-f7efe7841bbe')\"\n",
              "            title=\"Convert this dataframe to an interactive table.\"\n",
              "            style=\"display:none;\">\n",
              "\n",
              "  <svg xmlns=\"http://www.w3.org/2000/svg\" height=\"24px\" viewBox=\"0 -960 960 960\">\n",
              "    <path d=\"M120-120v-720h720v720H120Zm60-500h600v-160H180v160Zm220 220h160v-160H400v160Zm0 220h160v-160H400v160ZM180-400h160v-160H180v160Zm440 0h160v-160H620v160ZM180-180h160v-160H180v160Zm440 0h160v-160H620v160Z\"/>\n",
              "  </svg>\n",
              "    </button>\n",
              "\n",
              "  <style>\n",
              "    .colab-df-container {\n",
              "      display:flex;\n",
              "      gap: 12px;\n",
              "    }\n",
              "\n",
              "    .colab-df-convert {\n",
              "      background-color: #E8F0FE;\n",
              "      border: none;\n",
              "      border-radius: 50%;\n",
              "      cursor: pointer;\n",
              "      display: none;\n",
              "      fill: #1967D2;\n",
              "      height: 32px;\n",
              "      padding: 0 0 0 0;\n",
              "      width: 32px;\n",
              "    }\n",
              "\n",
              "    .colab-df-convert:hover {\n",
              "      background-color: #E2EBFA;\n",
              "      box-shadow: 0px 1px 2px rgba(60, 64, 67, 0.3), 0px 1px 3px 1px rgba(60, 64, 67, 0.15);\n",
              "      fill: #174EA6;\n",
              "    }\n",
              "\n",
              "    .colab-df-buttons div {\n",
              "      margin-bottom: 4px;\n",
              "    }\n",
              "\n",
              "    [theme=dark] .colab-df-convert {\n",
              "      background-color: #3B4455;\n",
              "      fill: #D2E3FC;\n",
              "    }\n",
              "\n",
              "    [theme=dark] .colab-df-convert:hover {\n",
              "      background-color: #434B5C;\n",
              "      box-shadow: 0px 1px 3px 1px rgba(0, 0, 0, 0.15);\n",
              "      filter: drop-shadow(0px 1px 2px rgba(0, 0, 0, 0.3));\n",
              "      fill: #FFFFFF;\n",
              "    }\n",
              "  </style>\n",
              "\n",
              "    <script>\n",
              "      const buttonEl =\n",
              "        document.querySelector('#df-abf9392e-ac55-45fb-9a66-f7efe7841bbe button.colab-df-convert');\n",
              "      buttonEl.style.display =\n",
              "        google.colab.kernel.accessAllowed ? 'block' : 'none';\n",
              "\n",
              "      async function convertToInteractive(key) {\n",
              "        const element = document.querySelector('#df-abf9392e-ac55-45fb-9a66-f7efe7841bbe');\n",
              "        const dataTable =\n",
              "          await google.colab.kernel.invokeFunction('convertToInteractive',\n",
              "                                                    [key], {});\n",
              "        if (!dataTable) return;\n",
              "\n",
              "        const docLinkHtml = 'Like what you see? Visit the ' +\n",
              "          '<a target=\"_blank\" href=https://colab.research.google.com/notebooks/data_table.ipynb>data table notebook</a>'\n",
              "          + ' to learn more about interactive tables.';\n",
              "        element.innerHTML = '';\n",
              "        dataTable['output_type'] = 'display_data';\n",
              "        await google.colab.output.renderOutput(dataTable, element);\n",
              "        const docLink = document.createElement('div');\n",
              "        docLink.innerHTML = docLinkHtml;\n",
              "        element.appendChild(docLink);\n",
              "      }\n",
              "    </script>\n",
              "  </div>\n",
              "\n",
              "\n",
              "<div id=\"df-1b6743ad-7a4f-4318-8153-9450e7aaec01\">\n",
              "  <button class=\"colab-df-quickchart\" onclick=\"quickchart('df-1b6743ad-7a4f-4318-8153-9450e7aaec01')\"\n",
              "            title=\"Suggest charts.\"\n",
              "            style=\"display:none;\">\n",
              "\n",
              "<svg xmlns=\"http://www.w3.org/2000/svg\" height=\"24px\"viewBox=\"0 0 24 24\"\n",
              "     width=\"24px\">\n",
              "    <g>\n",
              "        <path d=\"M19 3H5c-1.1 0-2 .9-2 2v14c0 1.1.9 2 2 2h14c1.1 0 2-.9 2-2V5c0-1.1-.9-2-2-2zM9 17H7v-7h2v7zm4 0h-2V7h2v10zm4 0h-2v-4h2v4z\"/>\n",
              "    </g>\n",
              "</svg>\n",
              "  </button>\n",
              "\n",
              "<style>\n",
              "  .colab-df-quickchart {\n",
              "      --bg-color: #E8F0FE;\n",
              "      --fill-color: #1967D2;\n",
              "      --hover-bg-color: #E2EBFA;\n",
              "      --hover-fill-color: #174EA6;\n",
              "      --disabled-fill-color: #AAA;\n",
              "      --disabled-bg-color: #DDD;\n",
              "  }\n",
              "\n",
              "  [theme=dark] .colab-df-quickchart {\n",
              "      --bg-color: #3B4455;\n",
              "      --fill-color: #D2E3FC;\n",
              "      --hover-bg-color: #434B5C;\n",
              "      --hover-fill-color: #FFFFFF;\n",
              "      --disabled-bg-color: #3B4455;\n",
              "      --disabled-fill-color: #666;\n",
              "  }\n",
              "\n",
              "  .colab-df-quickchart {\n",
              "    background-color: var(--bg-color);\n",
              "    border: none;\n",
              "    border-radius: 50%;\n",
              "    cursor: pointer;\n",
              "    display: none;\n",
              "    fill: var(--fill-color);\n",
              "    height: 32px;\n",
              "    padding: 0;\n",
              "    width: 32px;\n",
              "  }\n",
              "\n",
              "  .colab-df-quickchart:hover {\n",
              "    background-color: var(--hover-bg-color);\n",
              "    box-shadow: 0 1px 2px rgba(60, 64, 67, 0.3), 0 1px 3px 1px rgba(60, 64, 67, 0.15);\n",
              "    fill: var(--button-hover-fill-color);\n",
              "  }\n",
              "\n",
              "  .colab-df-quickchart-complete:disabled,\n",
              "  .colab-df-quickchart-complete:disabled:hover {\n",
              "    background-color: var(--disabled-bg-color);\n",
              "    fill: var(--disabled-fill-color);\n",
              "    box-shadow: none;\n",
              "  }\n",
              "\n",
              "  .colab-df-spinner {\n",
              "    border: 2px solid var(--fill-color);\n",
              "    border-color: transparent;\n",
              "    border-bottom-color: var(--fill-color);\n",
              "    animation:\n",
              "      spin 1s steps(1) infinite;\n",
              "  }\n",
              "\n",
              "  @keyframes spin {\n",
              "    0% {\n",
              "      border-color: transparent;\n",
              "      border-bottom-color: var(--fill-color);\n",
              "      border-left-color: var(--fill-color);\n",
              "    }\n",
              "    20% {\n",
              "      border-color: transparent;\n",
              "      border-left-color: var(--fill-color);\n",
              "      border-top-color: var(--fill-color);\n",
              "    }\n",
              "    30% {\n",
              "      border-color: transparent;\n",
              "      border-left-color: var(--fill-color);\n",
              "      border-top-color: var(--fill-color);\n",
              "      border-right-color: var(--fill-color);\n",
              "    }\n",
              "    40% {\n",
              "      border-color: transparent;\n",
              "      border-right-color: var(--fill-color);\n",
              "      border-top-color: var(--fill-color);\n",
              "    }\n",
              "    60% {\n",
              "      border-color: transparent;\n",
              "      border-right-color: var(--fill-color);\n",
              "    }\n",
              "    80% {\n",
              "      border-color: transparent;\n",
              "      border-right-color: var(--fill-color);\n",
              "      border-bottom-color: var(--fill-color);\n",
              "    }\n",
              "    90% {\n",
              "      border-color: transparent;\n",
              "      border-bottom-color: var(--fill-color);\n",
              "    }\n",
              "  }\n",
              "</style>\n",
              "\n",
              "  <script>\n",
              "    async function quickchart(key) {\n",
              "      const quickchartButtonEl =\n",
              "        document.querySelector('#' + key + ' button');\n",
              "      quickchartButtonEl.disabled = true;  // To prevent multiple clicks.\n",
              "      quickchartButtonEl.classList.add('colab-df-spinner');\n",
              "      try {\n",
              "        const charts = await google.colab.kernel.invokeFunction(\n",
              "            'suggestCharts', [key], {});\n",
              "      } catch (error) {\n",
              "        console.error('Error during call to suggestCharts:', error);\n",
              "      }\n",
              "      quickchartButtonEl.classList.remove('colab-df-spinner');\n",
              "      quickchartButtonEl.classList.add('colab-df-quickchart-complete');\n",
              "    }\n",
              "    (() => {\n",
              "      let quickchartButtonEl =\n",
              "        document.querySelector('#df-1b6743ad-7a4f-4318-8153-9450e7aaec01 button');\n",
              "      quickchartButtonEl.style.display =\n",
              "        google.colab.kernel.accessAllowed ? 'block' : 'none';\n",
              "    })();\n",
              "  </script>\n",
              "</div>\n",
              "    </div>\n",
              "  </div>\n"
            ]
          },
          "metadata": {},
          "execution_count": 65
        }
      ]
    },
    {
      "cell_type": "code",
      "source": [
        "sample_submission_df['smoking'].value_counts()"
      ],
      "metadata": {
        "colab": {
          "base_uri": "https://localhost:8080/"
        },
        "id": "kyK2D37GhWqm",
        "outputId": "f157fda8-6af8-4c9c-88d2-252512cc5555"
      },
      "execution_count": null,
      "outputs": [
        {
          "output_type": "execute_result",
          "data": {
            "text/plain": [
              "0    4728\n",
              "1    1214\n",
              "Name: smoking, dtype: int64"
            ]
          },
          "metadata": {},
          "execution_count": 66
        }
      ]
    },
    {
      "cell_type": "code",
      "source": [
        "sample_submission_df.to_csv('sample_submission_13.csv', index=False)"
      ],
      "metadata": {
        "id": "lEq21egPhfDW"
      },
      "execution_count": null,
      "outputs": []
    },
    {
      "cell_type": "code",
      "source": [],
      "metadata": {
        "id": "sOo07PIDhfGA"
      },
      "execution_count": null,
      "outputs": []
    }
  ]
}